{
 "cells": [
  {
   "cell_type": "code",
   "execution_count": 1,
   "id": "48f0dab5-fcd7-4a03-8296-d152a1c5a858",
   "metadata": {},
   "outputs": [],
   "source": [
    "import pandas as pd\n",
    "from glob import glob\n",
    "import datetime\n",
    "import random\n",
    "import calendar\n",
    "import matplotlib.pyplot as plt\n",
    "import seaborn as sns\n",
    "from scipy.stats import ttest_ind\n",
    "import numpy as np"
   ]
  },
  {
   "cell_type": "code",
   "execution_count": 2,
   "id": "3f62d10d-35ef-4ac9-a4eb-d694463efc5e",
   "metadata": {},
   "outputs": [],
   "source": [
    "def cal_map_cat(x,dict_,i):\n",
    "    if x[i] in dict_:\n",
    "        return dict_[x[i]]\n",
    "    else:\n",
    "        return x[i]\n",
    "\n",
    "class kv_pair(dict): \n",
    "    def __init__(self): \n",
    "        self = dict() \n",
    "    def add(self, key, value): \n",
    "        self[key] = value \n"
   ]
  },
  {
   "cell_type": "code",
   "execution_count": 3,
   "id": "8b19c71b-5ebd-4dca-a2cf-519d42153b7d",
   "metadata": {},
   "outputs": [
    {
     "name": "stderr",
     "output_type": "stream",
     "text": [
      "C:\\Users\\akbarimm\\AppData\\Local\\Temp\\ipykernel_26220\\2673023240.py:1: DtypeWarning: Columns (12) have mixed types. Specify dtype option on import or set low_memory=False.\n",
      "  df = pd.read_csv('Toronto_data.csv')\n"
     ]
    }
   ],
   "source": [
    "df = pd.read_csv('Toronto_data.csv')\n",
    "loc = pd.read_csv('Toronto_station_data.csv')"
   ]
  },
  {
   "cell_type": "code",
   "execution_count": 4,
   "id": "86f9d56b-22c1-414a-9b5a-e6e1e9079a12",
   "metadata": {},
   "outputs": [],
   "source": [
    "loc=loc[(loc['station_id'].isin(df['end_station_id'].unique()))&(loc['station_id'].isin(df['end_station_id'].unique()))]"
   ]
  },
  {
   "cell_type": "code",
   "execution_count": 5,
   "id": "f9f9e116-3309-4d74-a556-d2e9e0a72329",
   "metadata": {},
   "outputs": [],
   "source": [
    "df['started_at']=pd.to_datetime(df['started_at'])\n",
    "df['ended_at']=pd.to_datetime(df['ended_at'])\n",
    "df['year']=df['started_at'].apply(lambda x: x.year)\n",
    "df['hour']=df['started_at'].apply(lambda x: x.hour)"
   ]
  },
  {
   "cell_type": "code",
   "execution_count": 6,
   "id": "1ba00441-90e8-4f6f-a85a-daeabba70076",
   "metadata": {},
   "outputs": [
    {
     "data": {
      "text/plain": [
       "Index(['ride_id', 'trip_duration_seconds', 'start_station_id', 'started_at',\n",
       "       'start_station_name', 'end_station_id', 'ended_at', 'end_station_name',\n",
       "       'Bike number', 'member_casual', 'Duration', 'End Time_copy',\n",
       "       'from_station_name', 'weekday', 'is_weekend', 'month', 'year',\n",
       "       'quarter', 'start_lat', 'start_lng', 'start_station_capacity',\n",
       "       'end_lat', 'end_lng', 'end_station_capacity', 'started_hour', 'period',\n",
       "       'hour'],\n",
       "      dtype='object')"
      ]
     },
     "execution_count": 6,
     "metadata": {},
     "output_type": "execute_result"
    }
   ],
   "source": [
    "df.columns"
   ]
  },
  {
   "cell_type": "code",
   "execution_count": 8,
   "id": "a6c13609-1059-4d96-84c8-050e42568b8c",
   "metadata": {},
   "outputs": [],
   "source": [
    "def cal_map_cat(x,dict_,i):\n",
    "    if x[i] in dict_:\n",
    "        return dict_[x[i]]\n",
    "    else:\n",
    "        return x[i]\n",
    "\n",
    "class kv_pair(dict): \n",
    "    def __init__(self): \n",
    "        self = dict() \n",
    "    def add(self, key, value): \n",
    "        self[key] = value \n",
    "dict_weekday={'monday':'Monday','tuesday':'Tuesday','wednesday':'Wednesday','thursday':'Thursday','friday':'Friday','saturday':'Saturday','sunday':'Sunday'}\n",
    "df['weekday']=df.apply(cal_map_cat, args=(dict_weekday,'weekday',), axis=1)   "
   ]
  },
  {
   "cell_type": "code",
   "execution_count": 9,
   "id": "37968f41-583f-411d-a2cb-53b894bfb9b7",
   "metadata": {},
   "outputs": [
    {
     "name": "stderr",
     "output_type": "stream",
     "text": [
      "C:\\Users\\akbarimm\\AppData\\Local\\Temp\\ipykernel_26220\\537750361.py:6: SettingWithCopyWarning: \n",
      "A value is trying to be set on a copy of a slice from a DataFrame.\n",
      "Try using .loc[row_indexer,col_indexer] = value instead\n",
      "\n",
      "See the caveats in the documentation: https://pandas.pydata.org/pandas-docs/stable/user_guide/indexing.html#returning-a-view-versus-a-copy\n",
      "  t_['dummy']=[1 for i in range(len(t_))]\n",
      "C:\\Users\\akbarimm\\AppData\\Local\\Temp\\ipykernel_26220\\537750361.py:6: SettingWithCopyWarning: \n",
      "A value is trying to be set on a copy of a slice from a DataFrame.\n",
      "Try using .loc[row_indexer,col_indexer] = value instead\n",
      "\n",
      "See the caveats in the documentation: https://pandas.pydata.org/pandas-docs/stable/user_guide/indexing.html#returning-a-view-versus-a-copy\n",
      "  t_['dummy']=[1 for i in range(len(t_))]\n",
      "C:\\Users\\akbarimm\\AppData\\Local\\Temp\\ipykernel_26220\\537750361.py:6: SettingWithCopyWarning: \n",
      "A value is trying to be set on a copy of a slice from a DataFrame.\n",
      "Try using .loc[row_indexer,col_indexer] = value instead\n",
      "\n",
      "See the caveats in the documentation: https://pandas.pydata.org/pandas-docs/stable/user_guide/indexing.html#returning-a-view-versus-a-copy\n",
      "  t_['dummy']=[1 for i in range(len(t_))]\n",
      "C:\\Users\\akbarimm\\AppData\\Local\\Temp\\ipykernel_26220\\537750361.py:6: SettingWithCopyWarning: \n",
      "A value is trying to be set on a copy of a slice from a DataFrame.\n",
      "Try using .loc[row_indexer,col_indexer] = value instead\n",
      "\n",
      "See the caveats in the documentation: https://pandas.pydata.org/pandas-docs/stable/user_guide/indexing.html#returning-a-view-versus-a-copy\n",
      "  t_['dummy']=[1 for i in range(len(t_))]\n",
      "C:\\Users\\akbarimm\\AppData\\Local\\Temp\\ipykernel_26220\\537750361.py:6: SettingWithCopyWarning: \n",
      "A value is trying to be set on a copy of a slice from a DataFrame.\n",
      "Try using .loc[row_indexer,col_indexer] = value instead\n",
      "\n",
      "See the caveats in the documentation: https://pandas.pydata.org/pandas-docs/stable/user_guide/indexing.html#returning-a-view-versus-a-copy\n",
      "  t_['dummy']=[1 for i in range(len(t_))]\n",
      "C:\\Users\\akbarimm\\AppData\\Local\\Temp\\ipykernel_26220\\537750361.py:6: SettingWithCopyWarning: \n",
      "A value is trying to be set on a copy of a slice from a DataFrame.\n",
      "Try using .loc[row_indexer,col_indexer] = value instead\n",
      "\n",
      "See the caveats in the documentation: https://pandas.pydata.org/pandas-docs/stable/user_guide/indexing.html#returning-a-view-versus-a-copy\n",
      "  t_['dummy']=[1 for i in range(len(t_))]\n",
      "C:\\Users\\akbarimm\\AppData\\Local\\Temp\\ipykernel_26220\\537750361.py:6: SettingWithCopyWarning: \n",
      "A value is trying to be set on a copy of a slice from a DataFrame.\n",
      "Try using .loc[row_indexer,col_indexer] = value instead\n",
      "\n",
      "See the caveats in the documentation: https://pandas.pydata.org/pandas-docs/stable/user_guide/indexing.html#returning-a-view-versus-a-copy\n",
      "  t_['dummy']=[1 for i in range(len(t_))]\n",
      "C:\\Users\\akbarimm\\AppData\\Local\\Temp\\ipykernel_26220\\537750361.py:6: SettingWithCopyWarning: \n",
      "A value is trying to be set on a copy of a slice from a DataFrame.\n",
      "Try using .loc[row_indexer,col_indexer] = value instead\n",
      "\n",
      "See the caveats in the documentation: https://pandas.pydata.org/pandas-docs/stable/user_guide/indexing.html#returning-a-view-versus-a-copy\n",
      "  t_['dummy']=[1 for i in range(len(t_))]\n",
      "C:\\Users\\akbarimm\\AppData\\Local\\Temp\\ipykernel_26220\\537750361.py:6: SettingWithCopyWarning: \n",
      "A value is trying to be set on a copy of a slice from a DataFrame.\n",
      "Try using .loc[row_indexer,col_indexer] = value instead\n",
      "\n",
      "See the caveats in the documentation: https://pandas.pydata.org/pandas-docs/stable/user_guide/indexing.html#returning-a-view-versus-a-copy\n",
      "  t_['dummy']=[1 for i in range(len(t_))]\n",
      "C:\\Users\\akbarimm\\AppData\\Local\\Temp\\ipykernel_26220\\537750361.py:6: SettingWithCopyWarning: \n",
      "A value is trying to be set on a copy of a slice from a DataFrame.\n",
      "Try using .loc[row_indexer,col_indexer] = value instead\n",
      "\n",
      "See the caveats in the documentation: https://pandas.pydata.org/pandas-docs/stable/user_guide/indexing.html#returning-a-view-versus-a-copy\n",
      "  t_['dummy']=[1 for i in range(len(t_))]\n",
      "C:\\Users\\akbarimm\\AppData\\Local\\Temp\\ipykernel_26220\\537750361.py:6: SettingWithCopyWarning: \n",
      "A value is trying to be set on a copy of a slice from a DataFrame.\n",
      "Try using .loc[row_indexer,col_indexer] = value instead\n",
      "\n",
      "See the caveats in the documentation: https://pandas.pydata.org/pandas-docs/stable/user_guide/indexing.html#returning-a-view-versus-a-copy\n",
      "  t_['dummy']=[1 for i in range(len(t_))]\n",
      "C:\\Users\\akbarimm\\AppData\\Local\\Temp\\ipykernel_26220\\537750361.py:6: SettingWithCopyWarning: \n",
      "A value is trying to be set on a copy of a slice from a DataFrame.\n",
      "Try using .loc[row_indexer,col_indexer] = value instead\n",
      "\n",
      "See the caveats in the documentation: https://pandas.pydata.org/pandas-docs/stable/user_guide/indexing.html#returning-a-view-versus-a-copy\n",
      "  t_['dummy']=[1 for i in range(len(t_))]\n",
      "C:\\Users\\akbarimm\\AppData\\Local\\Temp\\ipykernel_26220\\537750361.py:6: SettingWithCopyWarning: \n",
      "A value is trying to be set on a copy of a slice from a DataFrame.\n",
      "Try using .loc[row_indexer,col_indexer] = value instead\n",
      "\n",
      "See the caveats in the documentation: https://pandas.pydata.org/pandas-docs/stable/user_guide/indexing.html#returning-a-view-versus-a-copy\n",
      "  t_['dummy']=[1 for i in range(len(t_))]\n",
      "C:\\Users\\akbarimm\\AppData\\Local\\Temp\\ipykernel_26220\\537750361.py:6: SettingWithCopyWarning: \n",
      "A value is trying to be set on a copy of a slice from a DataFrame.\n",
      "Try using .loc[row_indexer,col_indexer] = value instead\n",
      "\n",
      "See the caveats in the documentation: https://pandas.pydata.org/pandas-docs/stable/user_guide/indexing.html#returning-a-view-versus-a-copy\n",
      "  t_['dummy']=[1 for i in range(len(t_))]\n",
      "C:\\Users\\akbarimm\\AppData\\Local\\Temp\\ipykernel_26220\\537750361.py:6: SettingWithCopyWarning: \n",
      "A value is trying to be set on a copy of a slice from a DataFrame.\n",
      "Try using .loc[row_indexer,col_indexer] = value instead\n",
      "\n",
      "See the caveats in the documentation: https://pandas.pydata.org/pandas-docs/stable/user_guide/indexing.html#returning-a-view-versus-a-copy\n",
      "  t_['dummy']=[1 for i in range(len(t_))]\n",
      "C:\\Users\\akbarimm\\AppData\\Local\\Temp\\ipykernel_26220\\537750361.py:6: SettingWithCopyWarning: \n",
      "A value is trying to be set on a copy of a slice from a DataFrame.\n",
      "Try using .loc[row_indexer,col_indexer] = value instead\n",
      "\n",
      "See the caveats in the documentation: https://pandas.pydata.org/pandas-docs/stable/user_guide/indexing.html#returning-a-view-versus-a-copy\n",
      "  t_['dummy']=[1 for i in range(len(t_))]\n",
      "C:\\Users\\akbarimm\\AppData\\Local\\Temp\\ipykernel_26220\\537750361.py:6: SettingWithCopyWarning: \n",
      "A value is trying to be set on a copy of a slice from a DataFrame.\n",
      "Try using .loc[row_indexer,col_indexer] = value instead\n",
      "\n",
      "See the caveats in the documentation: https://pandas.pydata.org/pandas-docs/stable/user_guide/indexing.html#returning-a-view-versus-a-copy\n",
      "  t_['dummy']=[1 for i in range(len(t_))]\n",
      "C:\\Users\\akbarimm\\AppData\\Local\\Temp\\ipykernel_26220\\537750361.py:6: SettingWithCopyWarning: \n",
      "A value is trying to be set on a copy of a slice from a DataFrame.\n",
      "Try using .loc[row_indexer,col_indexer] = value instead\n",
      "\n",
      "See the caveats in the documentation: https://pandas.pydata.org/pandas-docs/stable/user_guide/indexing.html#returning-a-view-versus-a-copy\n",
      "  t_['dummy']=[1 for i in range(len(t_))]\n",
      "C:\\Users\\akbarimm\\AppData\\Local\\Temp\\ipykernel_26220\\537750361.py:6: SettingWithCopyWarning: \n",
      "A value is trying to be set on a copy of a slice from a DataFrame.\n",
      "Try using .loc[row_indexer,col_indexer] = value instead\n",
      "\n",
      "See the caveats in the documentation: https://pandas.pydata.org/pandas-docs/stable/user_guide/indexing.html#returning-a-view-versus-a-copy\n",
      "  t_['dummy']=[1 for i in range(len(t_))]\n",
      "C:\\Users\\akbarimm\\AppData\\Local\\Temp\\ipykernel_26220\\537750361.py:6: SettingWithCopyWarning: \n",
      "A value is trying to be set on a copy of a slice from a DataFrame.\n",
      "Try using .loc[row_indexer,col_indexer] = value instead\n",
      "\n",
      "See the caveats in the documentation: https://pandas.pydata.org/pandas-docs/stable/user_guide/indexing.html#returning-a-view-versus-a-copy\n",
      "  t_['dummy']=[1 for i in range(len(t_))]\n",
      "C:\\Users\\akbarimm\\AppData\\Local\\Temp\\ipykernel_26220\\537750361.py:6: SettingWithCopyWarning: \n",
      "A value is trying to be set on a copy of a slice from a DataFrame.\n",
      "Try using .loc[row_indexer,col_indexer] = value instead\n",
      "\n",
      "See the caveats in the documentation: https://pandas.pydata.org/pandas-docs/stable/user_guide/indexing.html#returning-a-view-versus-a-copy\n",
      "  t_['dummy']=[1 for i in range(len(t_))]\n",
      "C:\\Users\\akbarimm\\AppData\\Local\\Temp\\ipykernel_26220\\537750361.py:6: SettingWithCopyWarning: \n",
      "A value is trying to be set on a copy of a slice from a DataFrame.\n",
      "Try using .loc[row_indexer,col_indexer] = value instead\n",
      "\n",
      "See the caveats in the documentation: https://pandas.pydata.org/pandas-docs/stable/user_guide/indexing.html#returning-a-view-versus-a-copy\n",
      "  t_['dummy']=[1 for i in range(len(t_))]\n",
      "C:\\Users\\akbarimm\\AppData\\Local\\Temp\\ipykernel_26220\\537750361.py:6: SettingWithCopyWarning: \n",
      "A value is trying to be set on a copy of a slice from a DataFrame.\n",
      "Try using .loc[row_indexer,col_indexer] = value instead\n",
      "\n",
      "See the caveats in the documentation: https://pandas.pydata.org/pandas-docs/stable/user_guide/indexing.html#returning-a-view-versus-a-copy\n",
      "  t_['dummy']=[1 for i in range(len(t_))]\n",
      "C:\\Users\\akbarimm\\AppData\\Local\\Temp\\ipykernel_26220\\537750361.py:6: SettingWithCopyWarning: \n",
      "A value is trying to be set on a copy of a slice from a DataFrame.\n",
      "Try using .loc[row_indexer,col_indexer] = value instead\n",
      "\n",
      "See the caveats in the documentation: https://pandas.pydata.org/pandas-docs/stable/user_guide/indexing.html#returning-a-view-versus-a-copy\n",
      "  t_['dummy']=[1 for i in range(len(t_))]\n"
     ]
    }
   ],
   "source": [
    "t2=pd.DataFrame(columns=['variable'])\n",
    "for col in ['period','month','dummy','weekday']:\n",
    "    t1=pd.DataFrame(columns=['variable','sub_variable'])\n",
    "    for year in sorted(df['year'].unique()):\n",
    "        t_=df[df['year']==year]\n",
    "        t_['dummy']=[1 for i in range(len(t_))]\n",
    "        t__=t_.groupby(['year',col]).count().reset_index()[['year',col,'ride_id']]\n",
    "        # t__[col]=t__[col].apply(lambda x: col+'_'+str(x))\n",
    "        t__['variable']=col\n",
    "        t__=t__.rename(columns={'ride_id':year,col:'sub_variable'})\n",
    "        t__=t__[['variable','sub_variable',year]]\n",
    "        t1=pd.merge(t1,t__,on=['variable','sub_variable'],how='outer')\n",
    "    t2=pd.concat([t2,t1])\n",
    "# t2.to_csv('stats_rides.csv',index=False)"
   ]
  },
  {
   "cell_type": "code",
   "execution_count": 10,
   "id": "56730c9c-a07e-4fd5-9077-b06d784f8db8",
   "metadata": {},
   "outputs": [],
   "source": [
    "start_station_list = list(df['start_station_id'].unique())\n",
    "end_station_list = list(df[\"end_station_id\"].unique())\n",
    "all_stations =set(start_station_list+end_station_list)"
   ]
  },
  {
   "cell_type": "code",
   "execution_count": 11,
   "id": "412f1036-ac9d-4c37-8cda-d713635bd537",
   "metadata": {},
   "outputs": [
    {
     "name": "stdout",
     "output_type": "stream",
     "text": [
      "575\n"
     ]
    }
   ],
   "source": [
    "# \"Number of stations\"\n",
    "print(len(all_stations))"
   ]
  },
  {
   "cell_type": "code",
   "execution_count": 13,
   "id": "33ac4732-82b1-4d5f-b09c-7326f3ba420a",
   "metadata": {},
   "outputs": [],
   "source": [
    "station_counts_from =pd.DataFrame(df[\"start_station_id\"].value_counts()).sort_index(ascending=True)\n",
    "station_counts_from.rename(columns={'count':'checkins'}, inplace=True)\n",
    "\n",
    "station_counts_to= pd.DataFrame(df[\"end_station_id\"].value_counts()).sort_index(ascending=True)\n",
    "station_counts_to.rename(columns={'count':'checkouts'}, inplace=True)\n",
    "station_counts = pd.concat([station_counts_from, station_counts_to], axis=1)\n",
    "\n",
    "station_counts['total'] = station_counts['checkouts'] + station_counts['checkins']"
   ]
  },
  {
   "cell_type": "code",
   "execution_count": 14,
   "id": "58156435-0356-4143-b369-7f15dfb1b93f",
   "metadata": {},
   "outputs": [],
   "source": [
    "num_=100\n",
    "station_counts_100 = station_counts.sort_values('total', ascending=False).head(num_)\n",
    "# station_counts_100 = station_counts.sort_values('total', ascending=False)\n",
    "stations = list(station_counts_100.index)\n",
    "df_station = df[(df['start_station_id'].isin(stations)) | (df['end_station_id'].isin(stations))]\n",
    "total_trip_count = len(df)\n"
   ]
  },
  {
   "cell_type": "code",
   "execution_count": 15,
   "id": "4cd58dd4-8741-4ed9-81dd-8bd8c62e0dca",
   "metadata": {},
   "outputs": [],
   "source": [
    "Rent_df = df[df['start_station_id'].isin(list(station_counts_100.index))][['started_at','start_station_name','start_station_id','end_station_name','end_station_id','ended_at']]\n",
    "Return_df = df[df['end_station_id'].isin(list(station_counts_100.index))][['started_at','start_station_name','start_station_id','end_station_name','end_station_id','ended_at']]"
   ]
  },
  {
   "cell_type": "code",
   "execution_count": 16,
   "id": "5b0011f4-e569-4c3d-9e13-d2eedd0b9f0f",
   "metadata": {},
   "outputs": [],
   "source": [
    "dict_period={0:'Early Morning',1:'Early Morning',2:'Early Morning',3:'Early Morning',4:'Early Morning',5:'Early Morning',\n",
    "         6:'Morning',7:'Morning',8:'Morning',9:'Morning',10:'Morning',11:'Morning',\n",
    "         12:'Afternoon',13:'Afternoon',14:'Afternoon',15:'Afternoon',16:'Afternoon',17:'Afternoon',\n",
    "         18:'Night',19:'Night',20:'Night',21:'Night',22:'Night',23:'Night'}\n",
    "\n",
    "def update_df(Rent_df):\n",
    "    Rent_df['year']=Rent_df['started_at'].apply(lambda x: x.year)\n",
    "    Rent_df['hour']=Rent_df['started_at'].apply(lambda x: x.hour)\n",
    "    Rent_df['month']=Rent_df['started_at'].apply(lambda x: x.month)\n",
    "    Rent_df['period']=Rent_df['hour'].copy()\n",
    "    Rent_df['period']=Rent_df.apply(cal_map_cat, args=(dict_period,'period',), axis=1)\n",
    "    day = ['monday', 'tuesday', 'wednesday', 'thursday', 'friday', 'saturday', 'sunday']\n",
    "    Rent_df[\"weekday\"] = Rent_df['started_at'].apply(lambda x: pd.Timestamp(x).dayofweek)\n",
    "    Rent_df[\"weekday\"] = Rent_df[\"weekday\"].apply(lambda x: day[x])\n",
    "    return Rent_df\n",
    "Rent_df=update_df(Rent_df)\n",
    "Return_df=update_df(Return_df)"
   ]
  },
  {
   "cell_type": "code",
   "execution_count": 17,
   "id": "e75ad708-69ad-4cb6-a9e8-d4de115e3eca",
   "metadata": {},
   "outputs": [],
   "source": [
    "# Rent_df.to_csv('RentTop_whole.csv',index=False)\n",
    "# Return_df.to_csv('ReturnTop_whole.csv',index=False)"
   ]
  },
  {
   "cell_type": "code",
   "execution_count": null,
   "id": "c6edc32e-26c3-4122-9940-d7b132237f47",
   "metadata": {},
   "outputs": [],
   "source": []
  }
 ],
 "metadata": {
  "kernelspec": {
   "display_name": "Python 3 (ipykernel)",
   "language": "python",
   "name": "python3"
  },
  "language_info": {
   "codemirror_mode": {
    "name": "ipython",
    "version": 3
   },
   "file_extension": ".py",
   "mimetype": "text/x-python",
   "name": "python",
   "nbconvert_exporter": "python",
   "pygments_lexer": "ipython3",
   "version": "3.9.6"
  }
 },
 "nbformat": 4,
 "nbformat_minor": 5
}
